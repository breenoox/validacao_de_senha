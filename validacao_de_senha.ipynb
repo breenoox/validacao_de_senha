{
  "nbformat": 4,
  "nbformat_minor": 0,
  "metadata": {
    "colab": {
      "provenance": []
    },
    "kernelspec": {
      "name": "python3",
      "display_name": "Python 3"
    },
    "language_info": {
      "name": "python"
    }
  },
  "cells": [
    {
      "cell_type": "code",
      "execution_count": 33,
      "metadata": {
        "colab": {
          "base_uri": "https://localhost:8080/"
        },
        "id": "ebut984NkB7U",
        "outputId": "f30a92bb-edb6-43cc-c900-0b7a92fce1ee"
      },
      "outputs": [
        {
          "output_type": "stream",
          "name": "stdout",
          "text": [
            "Senha válida\n"
          ]
        }
      ],
      "source": [
        "import re\n",
        "\n",
        "def validar_senha(senha):\n",
        "    if len(senha) < 8:\n",
        "        return False\n",
        "    if not re.search(\"[a-z]\", senha):\n",
        "        return False\n",
        "    if not re.search(\"[A-Z]\", senha):\n",
        "        return False\n",
        "    if not re.search(\"[0-9]\", senha):\n",
        "        return False\n",
        "    if not re.search(\"[!@#$%^&*()-_+=]\", senha):\n",
        "        return False\n",
        "    return True\n",
        "\n",
        "# Exemplo de uso\n",
        "senha = \"Senha@12223\"\n",
        "if validar_senha(senha):\n",
        "    print(\"Senha válida\")\n",
        "else:\n",
        "    print(\"Senha inválida\")"
      ]
    }
  ]
}